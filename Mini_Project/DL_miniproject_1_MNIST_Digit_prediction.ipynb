{
  "nbformat": 4,
  "nbformat_minor": 0,
  "metadata": {
    "colab": {
      "provenance": []
    },
    "kernelspec": {
      "name": "python3",
      "display_name": "Python 3"
    },
    "language_info": {
      "name": "python"
    }
  },
  "cells": [
    {
      "cell_type": "markdown",
      "source": [
        "# **Necessary Import**"
      ],
      "metadata": {
        "id": "NZU87P6aoLFl"
      }
    },
    {
      "cell_type": "code",
      "execution_count": null,
      "metadata": {
        "id": "lp6PJHAVnbFM"
      },
      "outputs": [],
      "source": [
        "import pandas as pd\n",
        "import numpy as np\n",
        "import seaborn as sns\n",
        "import matplotlib.pyplot as plt\n",
        "import tensorflow as tf\n",
        "import cv2\n",
        "from google.colab.patches import cv2_imshow\n",
        "tf.random.set_seed(3)\n",
        "from tensorflow import keras\n",
        "from tensorflow.keras import Model,Sequential\n",
        "from tensorflow.keras.layers import Dense,Flatten,Input\n",
        "from keras.datasets import mnist\n",
        "from tensorflow.math import confusion_matrix\n",
        "from sklearn.metrics import confusion_matrix, ConfusionMatrixDisplay"
      ]
    },
    {
      "cell_type": "markdown",
      "source": [
        "# **Loading the dataset**"
      ],
      "metadata": {
        "id": "J8sPyzQUor7V"
      }
    },
    {
      "cell_type": "code",
      "source": [
        "(x_train,y_train),(x_test,y_test) = mnist.load_data()"
      ],
      "metadata": {
        "id": "Iu90MzZTopLh",
        "colab": {
          "base_uri": "https://localhost:8080/"
        },
        "outputId": "4a13c6f9-9ec4-4dde-a402-78f27f3759e0"
      },
      "execution_count": null,
      "outputs": [
        {
          "output_type": "stream",
          "name": "stdout",
          "text": [
            "Downloading data from https://storage.googleapis.com/tensorflow/tf-keras-datasets/mnist.npz\n",
            "\u001b[1m11490434/11490434\u001b[0m \u001b[32m━━━━━━━━━━━━━━━━━━━━\u001b[0m\u001b[37m\u001b[0m \u001b[1m0s\u001b[0m 0us/step\n"
          ]
        }
      ]
    },
    {
      "cell_type": "code",
      "source": [
        "type(x_train)"
      ],
      "metadata": {
        "colab": {
          "base_uri": "https://localhost:8080/"
        },
        "id": "thhBcpDvo5DU",
        "outputId": "d9e4676f-9405-4e81-faac-ffd887f8d298"
      },
      "execution_count": null,
      "outputs": [
        {
          "output_type": "execute_result",
          "data": {
            "text/plain": [
              "numpy.ndarray"
            ]
          },
          "metadata": {},
          "execution_count": 3
        }
      ]
    },
    {
      "cell_type": "code",
      "source": [
        "# shape of the numpy arrays\n",
        "\n",
        "print( x_train.shape,y_train.shape)\n",
        "print(x_test.shape,y_test.shape)"
      ],
      "metadata": {
        "colab": {
          "base_uri": "https://localhost:8080/"
        },
        "id": "VY3ZXsDOpJAK",
        "outputId": "dac901e4-a9f7-45ee-dc30-a5050e463fab"
      },
      "execution_count": null,
      "outputs": [
        {
          "output_type": "stream",
          "name": "stdout",
          "text": [
            "(60000, 28, 28) (60000,)\n",
            "(10000, 28, 28) (10000,)\n"
          ]
        }
      ]
    },
    {
      "cell_type": "markdown",
      "source": [
        "- Training Data = 60000\n",
        "- Testing Data = 10000\n",
        "- Image Dimesion = 28 * 28\n",
        "- Grayscale = 1 channel"
      ],
      "metadata": {
        "id": "4Dq82TrptPcV"
      }
    },
    {
      "cell_type": "markdown",
      "source": [
        "## **Displaying Image**"
      ],
      "metadata": {
        "id": "W89illGXt3Le"
      }
    },
    {
      "cell_type": "code",
      "source": [
        "# train image\n",
        "plt.imshow(x_train[25])\n",
        "plt.show()"
      ],
      "metadata": {
        "colab": {
          "base_uri": "https://localhost:8080/",
          "height": 430
        },
        "id": "P50mac5Ir6YT",
        "outputId": "525ba488-5721-444a-b34d-fd716de06875"
      },
      "execution_count": null,
      "outputs": [
        {
          "output_type": "display_data",
          "data": {
            "text/plain": [
              "<Figure size 640x480 with 1 Axes>"
            ],
            "image/png": "[encoded data removed]"
          },
          "metadata": {}
        }
      ]
    },
    {
      "cell_type": "code",
      "source": [
        " # corresponding Label\n",
        "print(y_train[25])"
      ],
      "metadata": {
        "colab": {
          "base_uri": "https://localhost:8080/"
        },
        "id": "9YTvhBqruF-k",
        "outputId": "2a016379-e2f3-4d61-df59-7bf8d49e23db"
      },
      "execution_count": null,
      "outputs": [
        {
          "output_type": "stream",
          "name": "stdout",
          "text": [
            "2\n"
          ]
        }
      ]
    },
    {
      "cell_type": "markdown",
      "source": [
        "**Image Labels**"
      ],
      "metadata": {
        "id": "zrZcaCV5vHJB"
      }
    },
    {
      "cell_type": "code",
      "source": [
        "print(y_train.shape,y_test.shape)"
      ],
      "metadata": {
        "colab": {
          "base_uri": "https://localhost:8080/"
        },
        "id": "bFhmaQotuabY",
        "outputId": "4a6709ef-e11f-4222-f9d3-086484adf33e"
      },
      "execution_count": null,
      "outputs": [
        {
          "output_type": "stream",
          "name": "stdout",
          "text": [
            "(60000,) (10000,)\n"
          ]
        }
      ]
    },
    {
      "cell_type": "code",
      "source": [
        "# unique values in y_train\n",
        "print(np.unique(y_train))\n",
        "\n",
        "# unique values in y_test\n",
        "print(np.unique(y_test))"
      ],
      "metadata": {
        "colab": {
          "base_uri": "https://localhost:8080/"
        },
        "id": "DUAy4Y2cvQdj",
        "outputId": "21eaabf8-6a41-4187-f228-280cf51c4c13"
      },
      "execution_count": null,
      "outputs": [
        {
          "output_type": "stream",
          "name": "stdout",
          "text": [
            "[0 1 2 3 4 5 6 7 8 9]\n",
            "[0 1 2 3 4 5 6 7 8 9]\n"
          ]
        }
      ]
    },
    {
      "cell_type": "markdown",
      "source": [
        "# **Necessary condition (steps)**\n",
        "- We can use these label directly or we can do OneHotEncoding on these label\n",
        "- All the images have the same dimensions in this dataset, if not then resize to the common dimension\n"
      ],
      "metadata": {
        "id": "2DxyE54IwERL"
      }
    },
    {
      "cell_type": "code",
      "source": [
        "  # scaling the values ( after these our data in 0 to 1 scale)\n",
        "  # min(0/255 = 0 )\n",
        "  # max(255/255 = 1)\n",
        "\n",
        "  x_train = x_train/255\n",
        "  x_test = x_test/255"
      ],
      "metadata": {
        "id": "7MjWb1UJvfFZ"
      },
      "execution_count": null,
      "outputs": []
    },
    {
      "cell_type": "code",
      "source": [
        "# printing the 11 th image\n",
        "\n",
        "# print(x_train[11])"
      ],
      "metadata": {
        "id": "UxGbmmlMyR3a"
      },
      "execution_count": null,
      "outputs": []
    },
    {
      "cell_type": "markdown",
      "source": [
        "# **1. Building the Neural Network Model**"
      ],
      "metadata": {
        "id": "GbfF-fJhzWE4"
      }
    },
    {
      "cell_type": "code",
      "source": [
        "# setting up the layers of the Neural Network\n",
        "\n",
        "# (28,28,1) == 1 for grayscale [black_&_white]\n",
        "# (28,28,3) == 3 for RGB (3 channel)\n",
        "\n",
        "model = Sequential(\n",
        "    [\n",
        "      Flatten(input_shape = (28,28),name='Input'), # convert into  1D\n",
        "      Dense(50,\n",
        "            activation = 'relu',\n",
        "            name='fc_1'),\n",
        "      Dense(50,\n",
        "            activation = 'relu',\n",
        "            name='fc_2'),\n",
        "      Dense(10,\n",
        "            activation = 'sigmoid',\n",
        "            name='Output'),\n",
        "    ])\n",
        "\n",
        "model.summary()"
      ],
      "metadata": {
        "colab": {
          "base_uri": "https://localhost:8080/",
          "height": 327
        },
        "id": "V7sFcSVwy47T",
        "outputId": "31c239fc-f36b-4342-a5f0-089b72c58fd8"
      },
      "execution_count": null,
      "outputs": [
        {
          "output_type": "stream",
          "name": "stderr",
          "text": [
            "/usr/local/lib/python3.10/dist-packages/keras/src/layers/reshaping/flatten.py:37: UserWarning: Do not pass an `input_shape`/`input_dim` argument to a layer. When using Sequential models, prefer using an `Input(shape)` object as the first layer in the model instead.\n",
            "  super().__init__(**kwargs)\n"
          ]
        },
        {
          "output_type": "display_data",
          "data": {
            "text/plain": [
              "\u001b[1mModel: \"sequential\"\u001b[0m\n"
            ],
            "text/html": [
              "<pre style=\"white-space:pre;overflow-x:auto;line-height:normal;font-family:Menlo,'DejaVu Sans Mono',consolas,'Courier New',monospace\"><span style=\"font-weight: bold\">Model: \"sequential\"</span>\n",
              "</pre>\n"
            ]
          },
          "metadata": {}
        },
        {
          "output_type": "display_data",
          "data": {
            "text/plain": [
              "┏━━━━━━━━━━━━━━━━━━━━━━━━━━━━━━━━━━━━━━┳━━━━━━━━━━━━━━━━━━━━━━━━━━━━━┳━━━━━━━━━━━━━━━━━┓\n",
              "┃\u001b[1m \u001b[0m\u001b[1mLayer (type)                        \u001b[0m\u001b[1m \u001b[0m┃\u001b[1m \u001b[0m\u001b[1mOutput Shape               \u001b[0m\u001b[1m \u001b[0m┃\u001b[1m \u001b[0m\u001b[1m        Param #\u001b[0m\u001b[1m \u001b[0m┃\n",
              "┡━━━━━━━━━━━━━━━━━━━━━━━━━━━━━━━━━━━━━━╇━━━━━━━━━━━━━━━━━━━━━━━━━━━━━╇━━━━━━━━━━━━━━━━━┩\n",
              "│ Input (\u001b[38;5;33mFlatten\u001b[0m)                      │ (\u001b[38;5;45mNone\u001b[0m, \u001b[38;5;34m784\u001b[0m)                 │               \u001b[38;5;34m0\u001b[0m │\n",
              "├──────────────────────────────────────┼─────────────────────────────┼─────────────────┤\n",
              "│ fc_1 (\u001b[38;5;33mDense\u001b[0m)                         │ (\u001b[38;5;45mNone\u001b[0m, \u001b[38;5;34m50\u001b[0m)                  │          \u001b[38;5;34m39,250\u001b[0m │\n",
              "├──────────────────────────────────────┼─────────────────────────────┼─────────────────┤\n",
              "│ fc_2 (\u001b[38;5;33mDense\u001b[0m)                         │ (\u001b[38;5;45mNone\u001b[0m, \u001b[38;5;34m50\u001b[0m)                  │           \u001b[38;5;34m2,550\u001b[0m │\n",
              "├──────────────────────────────────────┼─────────────────────────────┼─────────────────┤\n",
              "│ Output (\u001b[38;5;33mDense\u001b[0m)                       │ (\u001b[38;5;45mNone\u001b[0m, \u001b[38;5;34m10\u001b[0m)                  │             \u001b[38;5;34m510\u001b[0m │\n",
              "└──────────────────────────────────────┴─────────────────────────────┴─────────────────┘\n"
            ],
            "text/html": [
              "<pre style=\"white-space:pre;overflow-x:auto;line-height:normal;font-family:Menlo,'DejaVu Sans Mono',consolas,'Courier New',monospace\">┏━━━━━━━━━━━━━━━━━━━━━━━━━━━━━━━━━━━━━━┳━━━━━━━━━━━━━━━━━━━━━━━━━━━━━┳━━━━━━━━━━━━━━━━━┓\n",
              "┃<span style=\"font-weight: bold\"> Layer (type)                         </span>┃<span style=\"font-weight: bold\"> Output Shape                </span>┃<span style=\"font-weight: bold\">         Param # </span>┃\n",
              "┡━━━━━━━━━━━━━━━━━━━━━━━━━━━━━━━━━━━━━━╇━━━━━━━━━━━━━━━━━━━━━━━━━━━━━╇━━━━━━━━━━━━━━━━━┩\n",
              "│ Input (<span style=\"color: #0087ff; text-decoration-color: #0087ff\">Flatten</span>)                      │ (<span style=\"color: #00d7ff; text-decoration-color: #00d7ff\">None</span>, <span style=\"color: #00af00; text-decoration-color: #00af00\">784</span>)                 │               <span style=\"color: #00af00; text-decoration-color: #00af00\">0</span> │\n",
              "├──────────────────────────────────────┼─────────────────────────────┼─────────────────┤\n",
              "│ fc_1 (<span style=\"color: #0087ff; text-decoration-color: #0087ff\">Dense</span>)                         │ (<span style=\"color: #00d7ff; text-decoration-color: #00d7ff\">None</span>, <span style=\"color: #00af00; text-decoration-color: #00af00\">50</span>)                  │          <span style=\"color: #00af00; text-decoration-color: #00af00\">39,250</span> │\n",
              "├──────────────────────────────────────┼─────────────────────────────┼─────────────────┤\n",
              "│ fc_2 (<span style=\"color: #0087ff; text-decoration-color: #0087ff\">Dense</span>)                         │ (<span style=\"color: #00d7ff; text-decoration-color: #00d7ff\">None</span>, <span style=\"color: #00af00; text-decoration-color: #00af00\">50</span>)                  │           <span style=\"color: #00af00; text-decoration-color: #00af00\">2,550</span> │\n",
              "├──────────────────────────────────────┼─────────────────────────────┼─────────────────┤\n",
              "│ Output (<span style=\"color: #0087ff; text-decoration-color: #0087ff\">Dense</span>)                       │ (<span style=\"color: #00d7ff; text-decoration-color: #00d7ff\">None</span>, <span style=\"color: #00af00; text-decoration-color: #00af00\">10</span>)                  │             <span style=\"color: #00af00; text-decoration-color: #00af00\">510</span> │\n",
              "└──────────────────────────────────────┴─────────────────────────────┴─────────────────┘\n",
              "</pre>\n"
            ]
          },
          "metadata": {}
        },
        {
          "output_type": "display_data",
          "data": {
            "text/plain": [
              "\u001b[1m Total params: \u001b[0m\u001b[38;5;34m42,310\u001b[0m (165.27 KB)\n"
            ],
            "text/html": [
              "<pre style=\"white-space:pre;overflow-x:auto;line-height:normal;font-family:Menlo,'DejaVu Sans Mono',consolas,'Courier New',monospace\"><span style=\"font-weight: bold\"> Total params: </span><span style=\"color: #00af00; text-decoration-color: #00af00\">42,310</span> (165.27 KB)\n",
              "</pre>\n"
            ]
          },
          "metadata": {}
        },
        {
          "output_type": "display_data",
          "data": {
            "text/plain": [
              "\u001b[1m Trainable params: \u001b[0m\u001b[38;5;34m42,310\u001b[0m (165.27 KB)\n"
            ],
            "text/html": [
              "<pre style=\"white-space:pre;overflow-x:auto;line-height:normal;font-family:Menlo,'DejaVu Sans Mono',consolas,'Courier New',monospace\"><span style=\"font-weight: bold\"> Trainable params: </span><span style=\"color: #00af00; text-decoration-color: #00af00\">42,310</span> (165.27 KB)\n",
              "</pre>\n"
            ]
          },
          "metadata": {}
        },
        {
          "output_type": "display_data",
          "data": {
            "text/plain": [
              "\u001b[1m Non-trainable params: \u001b[0m\u001b[38;5;34m0\u001b[0m (0.00 B)\n"
            ],
            "text/html": [
              "<pre style=\"white-space:pre;overflow-x:auto;line-height:normal;font-family:Menlo,'DejaVu Sans Mono',consolas,'Courier New',monospace\"><span style=\"font-weight: bold\"> Non-trainable params: </span><span style=\"color: #00af00; text-decoration-color: #00af00\">0</span> (0.00 B)\n",
              "</pre>\n"
            ]
          },
          "metadata": {}
        }
      ]
    },
    {
      "cell_type": "markdown",
      "source": [
        "### reason for 'relu' in hidden layers:\n",
        "#### ReLU (Rectified Linear Unit) is a good default choice for hidden layers in many cases.  It's computationally efficient and helps mitigate the vanishing gradient problem, which can hinder training in deep networks.  The non-linearity introduced by ReLU allows the network to learn complex patterns."
      ],
      "metadata": {
        "id": "DoKnsyKUrOJi"
      }
    },
    {
      "cell_type": "code",
      "source": [
        "# compling the model\n",
        "\n",
        "model.compile(optimizer='Adam',\n",
        "              loss = 'sparse_categorical_crossentropy',\n",
        "              metrics = ['accuracy'])"
      ],
      "metadata": {
        "id": "xyvCyKQAz21M"
      },
      "execution_count": null,
      "outputs": []
    },
    {
      "cell_type": "code",
      "source": [
        "# fit the model\n",
        "\n",
        "model.fit(x_train,y_train,validation_data=(x_test,y_test),\n",
        "          epochs=10)"
      ],
      "metadata": {
        "colab": {
          "base_uri": "https://localhost:8080/"
        },
        "id": "QLBkQHi9-iJa",
        "outputId": "092c088e-381b-4866-e3aa-66c2b00f04bc"
      },
      "execution_count": null,
      "outputs": [
        {
          "output_type": "stream",
          "name": "stdout",
          "text": [
            "Epoch 1/10\n",
            "\u001b[1m1875/1875\u001b[0m \u001b[32m━━━━━━━━━━━━━━━━━━━━\u001b[0m\u001b[37m\u001b[0m \u001b[1m5s\u001b[0m 2ms/step - accuracy: 0.8497 - loss: 0.5146 - val_accuracy: 0.9477 - val_loss: 0.1769\n",
            "Epoch 2/10\n",
            "\u001b[1m1875/1875\u001b[0m \u001b[32m━━━━━━━━━━━━━━━━━━━━\u001b[0m\u001b[37m\u001b[0m \u001b[1m5s\u001b[0m 3ms/step - accuracy: 0.9563 - loss: 0.1477 - val_accuracy: 0.9593 - val_loss: 0.1360\n",
            "Epoch 3/10\n",
            "\u001b[1m1875/1875\u001b[0m \u001b[32m━━━━━━━━━━━━━━━━━━━━\u001b[0m\u001b[37m\u001b[0m \u001b[1m4s\u001b[0m 2ms/step - accuracy: 0.9671 - loss: 0.1079 - val_accuracy: 0.9641 - val_loss: 0.1181\n",
            "Epoch 4/10\n",
            "\u001b[1m1875/1875\u001b[0m \u001b[32m━━━━━━━━━━━━━━━━━━━━\u001b[0m\u001b[37m\u001b[0m \u001b[1m5s\u001b[0m 2ms/step - accuracy: 0.9744 - loss: 0.0847 - val_accuracy: 0.9664 - val_loss: 0.1079\n",
            "Epoch 5/10\n",
            "\u001b[1m1875/1875\u001b[0m \u001b[32m━━━━━━━━━━━━━━━━━━━━\u001b[0m\u001b[37m\u001b[0m \u001b[1m6s\u001b[0m 2ms/step - accuracy: 0.9794 - loss: 0.0678 - val_accuracy: 0.9670 - val_loss: 0.1088\n",
            "Epoch 6/10\n",
            "\u001b[1m1875/1875\u001b[0m \u001b[32m━━━━━━━━━━━━━━━━━━━━\u001b[0m\u001b[37m\u001b[0m \u001b[1m4s\u001b[0m 2ms/step - accuracy: 0.9833 - loss: 0.0568 - val_accuracy: 0.9700 - val_loss: 0.1048\n",
            "Epoch 7/10\n",
            "\u001b[1m1875/1875\u001b[0m \u001b[32m━━━━━━━━━━━━━━━━━━━━\u001b[0m\u001b[37m\u001b[0m \u001b[1m6s\u001b[0m 3ms/step - accuracy: 0.9859 - loss: 0.0479 - val_accuracy: 0.9701 - val_loss: 0.1052\n",
            "Epoch 8/10\n",
            "\u001b[1m1875/1875\u001b[0m \u001b[32m━━━━━━━━━━━━━━━━━━━━\u001b[0m\u001b[37m\u001b[0m \u001b[1m4s\u001b[0m 2ms/step - accuracy: 0.9876 - loss: 0.0424 - val_accuracy: 0.9708 - val_loss: 0.1104\n",
            "Epoch 9/10\n",
            "\u001b[1m1875/1875\u001b[0m \u001b[32m━━━━━━━━━━━━━━━━━━━━\u001b[0m\u001b[37m\u001b[0m \u001b[1m5s\u001b[0m 2ms/step - accuracy: 0.9893 - loss: 0.0366 - val_accuracy: 0.9720 - val_loss: 0.1071\n",
            "Epoch 10/10\n",
            "\u001b[1m1875/1875\u001b[0m \u001b[32m━━━━━━━━━━━━━━━━━━━━\u001b[0m\u001b[37m\u001b[0m \u001b[1m7s\u001b[0m 3ms/step - accuracy: 0.9907 - loss: 0.0310 - val_accuracy: 0.9709 - val_loss: 0.1247\n"
          ]
        },
        {
          "output_type": "execute_result",
          "data": {
            "text/plain": [
              "<keras.src.callbacks.history.History at 0x7bb11eb202e0>"
            ]
          },
          "metadata": {},
          "execution_count": 14
        }
      ]
    },
    {
      "cell_type": "markdown",
      "source": [
        "# **2. training and validation accuracies**"
      ],
      "metadata": {
        "id": "sndHWGU6A8-r"
      }
    },
    {
      "cell_type": "code",
      "source": [
        "loss , accuracy = model.evaluate(x_test,y_test)\n",
        "print(f\"Testing Accuracy: \",accuracy*100)"
      ],
      "metadata": {
        "colab": {
          "base_uri": "https://localhost:8080/"
        },
        "id": "kHhEKVeH_bli",
        "outputId": "cf5d9579-f395-4073-8970-845d3ab8faef"
      },
      "execution_count": null,
      "outputs": [
        {
          "output_type": "stream",
          "name": "stdout",
          "text": [
            "\u001b[1m313/313\u001b[0m \u001b[32m━━━━━━━━━━━━━━━━━━━━\u001b[0m\u001b[37m\u001b[0m \u001b[1m0s\u001b[0m 1ms/step - accuracy: 0.9674 - loss: 0.1503\n",
            "Testing Accuracy:  97.08999991416931\n"
          ]
        }
      ]
    },
    {
      "cell_type": "markdown",
      "source": [
        "- **Training_accuracy == 99.08%**\n",
        "- **Testing_accuracy == 97.08%**"
      ],
      "metadata": {
        "id": "Ytc06rFeAxch"
      }
    },
    {
      "cell_type": "markdown",
      "source": [
        "# **Regularization Techniques**"
      ],
      "metadata": {
        "id": "We-zS_0sB0fj"
      }
    },
    {
      "cell_type": "code",
      "source": [
        "\n",
        "import pandas as pd\n",
        "import numpy as np\n",
        "import seaborn as sns\n",
        "import matplotlib.pyplot as plt\n",
        "import tensorflow as tf\n",
        "import cv2\n",
        "from google.colab.patches import cv2_imshow\n",
        "from tensorflow import keras\n",
        "from tensorflow.keras import Model,Sequential\n",
        "from tensorflow.keras.layers import Dense,Flatten,Input, Dropout\n",
        "from keras.datasets import mnist\n",
        "from tensorflow.math import confusion_matrix\n",
        "from sklearn.metrics import confusion_matrix, ConfusionMatrixDisplay\n",
        "from tensorflow.keras.regularizers import l2\n",
        "\n",
        "tf.random.set_seed(3)\n",
        "\n",
        "(x_train,y_train),(x_test,y_test) = mnist.load_data()\n",
        "\n",
        "x_train = x_train/255\n",
        "x_test = x_test/255\n",
        "\n",
        "model = Sequential([\n",
        "    Flatten(input_shape=(28, 28), name='Input'),\n",
        "    Dense(50, activation='relu', kernel_regularizer=l2(0.001), name='fc_1'),  # L2 regularization\n",
        "    Dropout(0.25),  # Dropout layer\n",
        "    Dense(50, activation='relu', kernel_regularizer=l2(0.001), name='fc_2'),  # L2 regularization\n",
        "    Dropout(0.25), #Dropout Layer\n",
        "    Dense(10, activation='sigmoid', name='Output')\n",
        "])\n",
        "\n",
        "model.summary()\n",
        "\n",
        "model.compile(optimizer='Adam',\n",
        "              loss='sparse_categorical_crossentropy',\n",
        "              metrics=['accuracy'])\n",
        "\n",
        "model.fit(x_train, y_train, validation_data=(x_test, y_test), epochs=10)\n",
        "\n",
        "loss, accuracy = model.evaluate(x_test, y_test)\n",
        "print(f\"Testing Accuracy: \", accuracy * 100)"
      ],
      "metadata": {
        "colab": {
          "base_uri": "https://localhost:8080/",
          "height": 722
        },
        "id": "LzpQrKPdkuEP",
        "outputId": "6f7a4ae3-0c61-408d-9e0b-9304ccc678b8"
      },
      "execution_count": null,
      "outputs": [
        {
          "output_type": "display_data",
          "data": {
            "text/plain": [
              "\u001b[1mModel: \"sequential_3\"\u001b[0m\n"
            ],
            "text/html": [
              "<pre style=\"white-space:pre;overflow-x:auto;line-height:normal;font-family:Menlo,'DejaVu Sans Mono',consolas,'Courier New',monospace\"><span style=\"font-weight: bold\">Model: \"sequential_3\"</span>\n",
              "</pre>\n"
            ]
          },
          "metadata": {}
        },
        {
          "output_type": "display_data",
          "data": {
            "text/plain": [
              "┏━━━━━━━━━━━━━━━━━━━━━━━━━━━━━━━━━━━━━━┳━━━━━━━━━━━━━━━━━━━━━━━━━━━━━┳━━━━━━━━━━━━━━━━━┓\n",
              "┃\u001b[1m \u001b[0m\u001b[1mLayer (type)                        \u001b[0m\u001b[1m \u001b[0m┃\u001b[1m \u001b[0m\u001b[1mOutput Shape               \u001b[0m\u001b[1m \u001b[0m┃\u001b[1m \u001b[0m\u001b[1m        Param #\u001b[0m\u001b[1m \u001b[0m┃\n",
              "┡━━━━━━━━━━━━━━━━━━━━━━━━━━━━━━━━━━━━━━╇━━━━━━━━━━━━━━━━━━━━━━━━━━━━━╇━━━━━━━━━━━━━━━━━┩\n",
              "│ Input (\u001b[38;5;33mFlatten\u001b[0m)                      │ (\u001b[38;5;45mNone\u001b[0m, \u001b[38;5;34m784\u001b[0m)                 │               \u001b[38;5;34m0\u001b[0m │\n",
              "├──────────────────────────────────────┼─────────────────────────────┼─────────────────┤\n",
              "│ fc_1 (\u001b[38;5;33mDense\u001b[0m)                         │ (\u001b[38;5;45mNone\u001b[0m, \u001b[38;5;34m50\u001b[0m)                  │          \u001b[38;5;34m39,250\u001b[0m │\n",
              "├──────────────────────────────────────┼─────────────────────────────┼─────────────────┤\n",
              "│ dropout_2 (\u001b[38;5;33mDropout\u001b[0m)                  │ (\u001b[38;5;45mNone\u001b[0m, \u001b[38;5;34m50\u001b[0m)                  │               \u001b[38;5;34m0\u001b[0m │\n",
              "├──────────────────────────────────────┼─────────────────────────────┼─────────────────┤\n",
              "│ fc_2 (\u001b[38;5;33mDense\u001b[0m)                         │ (\u001b[38;5;45mNone\u001b[0m, \u001b[38;5;34m50\u001b[0m)                  │           \u001b[38;5;34m2,550\u001b[0m │\n",
              "├──────────────────────────────────────┼─────────────────────────────┼─────────────────┤\n",
              "│ dropout_3 (\u001b[38;5;33mDropout\u001b[0m)                  │ (\u001b[38;5;45mNone\u001b[0m, \u001b[38;5;34m50\u001b[0m)                  │               \u001b[38;5;34m0\u001b[0m │\n",
              "├──────────────────────────────────────┼─────────────────────────────┼─────────────────┤\n",
              "│ Output (\u001b[38;5;33mDense\u001b[0m)                       │ (\u001b[38;5;45mNone\u001b[0m, \u001b[38;5;34m10\u001b[0m)                  │             \u001b[38;5;34m510\u001b[0m │\n",
              "└──────────────────────────────────────┴─────────────────────────────┴─────────────────┘\n"
            ],
            "text/html": [
              "<pre style=\"white-space:pre;overflow-x:auto;line-height:normal;font-family:Menlo,'DejaVu Sans Mono',consolas,'Courier New',monospace\">┏━━━━━━━━━━━━━━━━━━━━━━━━━━━━━━━━━━━━━━┳━━━━━━━━━━━━━━━━━━━━━━━━━━━━━┳━━━━━━━━━━━━━━━━━┓\n",
              "┃<span style=\"font-weight: bold\"> Layer (type)                         </span>┃<span style=\"font-weight: bold\"> Output Shape                </span>┃<span style=\"font-weight: bold\">         Param # </span>┃\n",
              "┡━━━━━━━━━━━━━━━━━━━━━━━━━━━━━━━━━━━━━━╇━━━━━━━━━━━━━━━━━━━━━━━━━━━━━╇━━━━━━━━━━━━━━━━━┩\n",
              "│ Input (<span style=\"color: #0087ff; text-decoration-color: #0087ff\">Flatten</span>)                      │ (<span style=\"color: #00d7ff; text-decoration-color: #00d7ff\">None</span>, <span style=\"color: #00af00; text-decoration-color: #00af00\">784</span>)                 │               <span style=\"color: #00af00; text-decoration-color: #00af00\">0</span> │\n",
              "├──────────────────────────────────────┼─────────────────────────────┼─────────────────┤\n",
              "│ fc_1 (<span style=\"color: #0087ff; text-decoration-color: #0087ff\">Dense</span>)                         │ (<span style=\"color: #00d7ff; text-decoration-color: #00d7ff\">None</span>, <span style=\"color: #00af00; text-decoration-color: #00af00\">50</span>)                  │          <span style=\"color: #00af00; text-decoration-color: #00af00\">39,250</span> │\n",
              "├──────────────────────────────────────┼─────────────────────────────┼─────────────────┤\n",
              "│ dropout_2 (<span style=\"color: #0087ff; text-decoration-color: #0087ff\">Dropout</span>)                  │ (<span style=\"color: #00d7ff; text-decoration-color: #00d7ff\">None</span>, <span style=\"color: #00af00; text-decoration-color: #00af00\">50</span>)                  │               <span style=\"color: #00af00; text-decoration-color: #00af00\">0</span> │\n",
              "├──────────────────────────────────────┼─────────────────────────────┼─────────────────┤\n",
              "│ fc_2 (<span style=\"color: #0087ff; text-decoration-color: #0087ff\">Dense</span>)                         │ (<span style=\"color: #00d7ff; text-decoration-color: #00d7ff\">None</span>, <span style=\"color: #00af00; text-decoration-color: #00af00\">50</span>)                  │           <span style=\"color: #00af00; text-decoration-color: #00af00\">2,550</span> │\n",
              "├──────────────────────────────────────┼─────────────────────────────┼─────────────────┤\n",
              "│ dropout_3 (<span style=\"color: #0087ff; text-decoration-color: #0087ff\">Dropout</span>)                  │ (<span style=\"color: #00d7ff; text-decoration-color: #00d7ff\">None</span>, <span style=\"color: #00af00; text-decoration-color: #00af00\">50</span>)                  │               <span style=\"color: #00af00; text-decoration-color: #00af00\">0</span> │\n",
              "├──────────────────────────────────────┼─────────────────────────────┼─────────────────┤\n",
              "│ Output (<span style=\"color: #0087ff; text-decoration-color: #0087ff\">Dense</span>)                       │ (<span style=\"color: #00d7ff; text-decoration-color: #00d7ff\">None</span>, <span style=\"color: #00af00; text-decoration-color: #00af00\">10</span>)                  │             <span style=\"color: #00af00; text-decoration-color: #00af00\">510</span> │\n",
              "└──────────────────────────────────────┴─────────────────────────────┴─────────────────┘\n",
              "</pre>\n"
            ]
          },
          "metadata": {}
        },
        {
          "output_type": "display_data",
          "data": {
            "text/plain": [
              "\u001b[1m Total params: \u001b[0m\u001b[38;5;34m42,310\u001b[0m (165.27 KB)\n"
            ],
            "text/html": [
              "<pre style=\"white-space:pre;overflow-x:auto;line-height:normal;font-family:Menlo,'DejaVu Sans Mono',consolas,'Courier New',monospace\"><span style=\"font-weight: bold\"> Total params: </span><span style=\"color: #00af00; text-decoration-color: #00af00\">42,310</span> (165.27 KB)\n",
              "</pre>\n"
            ]
          },
          "metadata": {}
        },
        {
          "output_type": "display_data",
          "data": {
            "text/plain": [
              "\u001b[1m Trainable params: \u001b[0m\u001b[38;5;34m42,310\u001b[0m (165.27 KB)\n"
            ],
            "text/html": [
              "<pre style=\"white-space:pre;overflow-x:auto;line-height:normal;font-family:Menlo,'DejaVu Sans Mono',consolas,'Courier New',monospace\"><span style=\"font-weight: bold\"> Trainable params: </span><span style=\"color: #00af00; text-decoration-color: #00af00\">42,310</span> (165.27 KB)\n",
              "</pre>\n"
            ]
          },
          "metadata": {}
        },
        {
          "output_type": "display_data",
          "data": {
            "text/plain": [
              "\u001b[1m Non-trainable params: \u001b[0m\u001b[38;5;34m0\u001b[0m (0.00 B)\n"
            ],
            "text/html": [
              "<pre style=\"white-space:pre;overflow-x:auto;line-height:normal;font-family:Menlo,'DejaVu Sans Mono',consolas,'Courier New',monospace\"><span style=\"font-weight: bold\"> Non-trainable params: </span><span style=\"color: #00af00; text-decoration-color: #00af00\">0</span> (0.00 B)\n",
              "</pre>\n"
            ]
          },
          "metadata": {}
        },
        {
          "output_type": "stream",
          "name": "stdout",
          "text": [
            "Epoch 1/10\n",
            "\u001b[1m1875/1875\u001b[0m \u001b[32m━━━━━━━━━━━━━━━━━━━━\u001b[0m\u001b[37m\u001b[0m \u001b[1m6s\u001b[0m 2ms/step - accuracy: 0.7491 - loss: 0.9079 - val_accuracy: 0.9392 - val_loss: 0.3162\n",
            "Epoch 2/10\n",
            "\u001b[1m1875/1875\u001b[0m \u001b[32m━━━━━━━━━━━━━━━━━━━━\u001b[0m\u001b[37m\u001b[0m \u001b[1m6s\u001b[0m 3ms/step - accuracy: 0.9079 - loss: 0.4300 - val_accuracy: 0.9512 - val_loss: 0.2725\n",
            "Epoch 3/10\n",
            "\u001b[1m1875/1875\u001b[0m \u001b[32m━━━━━━━━━━━━━━━━━━━━\u001b[0m\u001b[37m\u001b[0m \u001b[1m5s\u001b[0m 3ms/step - accuracy: 0.9220 - loss: 0.3697 - val_accuracy: 0.9530 - val_loss: 0.2527\n",
            "Epoch 4/10\n",
            "\u001b[1m1875/1875\u001b[0m \u001b[32m━━━━━━━━━━━━━━━━━━━━\u001b[0m\u001b[37m\u001b[0m \u001b[1m5s\u001b[0m 2ms/step - accuracy: 0.9291 - loss: 0.3426 - val_accuracy: 0.9583 - val_loss: 0.2385\n",
            "Epoch 5/10\n",
            "\u001b[1m1875/1875\u001b[0m \u001b[32m━━━━━━━━━━━━━━━━━━━━\u001b[0m\u001b[37m\u001b[0m \u001b[1m7s\u001b[0m 4ms/step - accuracy: 0.9300 - loss: 0.3305 - val_accuracy: 0.9605 - val_loss: 0.2303\n",
            "Epoch 6/10\n",
            "\u001b[1m1875/1875\u001b[0m \u001b[32m━━━━━━━━━━━━━━━━━━━━\u001b[0m\u001b[37m\u001b[0m \u001b[1m7s\u001b[0m 2ms/step - accuracy: 0.9339 - loss: 0.3186 - val_accuracy: 0.9610 - val_loss: 0.2229\n",
            "Epoch 7/10\n",
            "\u001b[1m1875/1875\u001b[0m \u001b[32m━━━━━━━━━━━━━━━━━━━━\u001b[0m\u001b[37m\u001b[0m \u001b[1m6s\u001b[0m 3ms/step - accuracy: 0.9351 - loss: 0.3080 - val_accuracy: 0.9642 - val_loss: 0.2153\n",
            "Epoch 8/10\n",
            "\u001b[1m1875/1875\u001b[0m \u001b[32m━━━━━━━━━━━━━━━━━━━━\u001b[0m\u001b[37m\u001b[0m \u001b[1m4s\u001b[0m 2ms/step - accuracy: 0.9379 - loss: 0.3015 - val_accuracy: 0.9653 - val_loss: 0.2095\n",
            "Epoch 9/10\n",
            "\u001b[1m1875/1875\u001b[0m \u001b[32m━━━━━━━━━━━━━━━━━━━━\u001b[0m\u001b[37m\u001b[0m \u001b[1m4s\u001b[0m 2ms/step - accuracy: 0.9387 - loss: 0.2953 - val_accuracy: 0.9655 - val_loss: 0.2037\n",
            "Epoch 10/10\n",
            "\u001b[1m1875/1875\u001b[0m \u001b[32m━━━━━━━━━━━━━━━━━━━━\u001b[0m\u001b[37m\u001b[0m \u001b[1m6s\u001b[0m 3ms/step - accuracy: 0.9385 - loss: 0.2924 - val_accuracy: 0.9624 - val_loss: 0.2103\n",
            "\u001b[1m313/313\u001b[0m \u001b[32m━━━━━━━━━━━━━━━━━━━━\u001b[0m\u001b[37m\u001b[0m \u001b[1m0s\u001b[0m 1ms/step - accuracy: 0.9566 - loss: 0.2280\n",
            "Testing Accuracy:  96.24000191688538\n"
          ]
        }
      ]
    },
    {
      "cell_type": "markdown",
      "source": [
        "\n",
        "\n",
        "# Original Model (without regularization):\n",
        "### - Achieved a testing accuracy around 97%.\n",
        "### - Potential for overfitting:  While the training accuracy might be high, a gap between training and testing accuracy suggests the model might be overfitting to the training data. Overfitting occurs when a model learns the training data too well, including noise and irrelevant details, leading to poor generalization on unseen data (like the test set).\n",
        "\n",
        "\n",
        "# Regularized Model (with L2 regularization and dropout):\n",
        "### - L2 regularization (added to the dense layers via `kernel_regularizer=l2(0.001)`) adds a penalty to the loss function based on the magnitude of the weights.  This encourages smaller weights, preventing the model from becoming too complex and thus reducing overfitting.\n",
        "### - Dropout (added using `Dropout(0.25)`) randomly deactivates a fraction (25% in this case) of neurons during each training iteration.  This forces the network to learn more robust features and prevents reliance on specific neurons, improving generalization.\n",
        "### - The testing accuracy of the regularized model should be compared to the original model.  If it's similar or better, regularization has helped to improve the model's ability to generalize. If the testing accuracy decreased significantly, the regularization strength (the value 0.001 in `l2(0.001)`) may be too high, and you should experiment with lower values.  Also, check the training accuracy.  If it's also significantly lower, it indicates the regularization is overly restricting the network's learning capacity.\n",
        "\n",
        "\n",
        "# Key Observations:\n",
        "### 1.  Overfitting Mitigation: The primary goal of regularization is to reduce overfitting. By comparing the training and testing accuracy of both models, you can assess whether regularization has successfully narrowed the gap, indicating improved generalization.\n",
        "### 2.  Accuracy Trade-off: Regularization might slightly reduce the training accuracy, but it should improve (or at least not significantly harm) the testing accuracy. This is a common trade-off – a slightly less perfect fit to the training data in exchange for better performance on new, unseen data.\n",
        "### 3.  Hyperparameter Tuning: The regularization strength (e.g., the value 0.001 in `l2(0.001)`) and the dropout rate are hyperparameters that need tuning.  Experiment with different values to find the optimal settings for your data.\n",
        "\n",
        "\n",
        "### In summary, regularization techniques like L2 regularization and dropout help to prevent overfitting and improve the generalization capability of neural networks. Comparing the performance metrics (accuracy, training/test gap) of the models with and without these techniques provides a clear indication of their effectiveness."
      ],
      "metadata": {
        "id": "T4y5ldTwmWTu"
      }
    },
    {
      "cell_type": "markdown",
      "source": [
        "# Model Optimization and Evaluation"
      ],
      "metadata": {
        "id": "XpGrfRfPnX_Y"
      }
    },
    {
      "cell_type": "markdown",
      "source": [
        "### 1. I will select the Adam because :\n",
        "###It is a widely used optimizer that combines the benefits of Momentum and RMSprop.\n",
        "### It adapts the learning rate for each parameter, leading to faster convergence and potentially better performance compared to simpler optimizers like SGD.\n",
        "### Its adaptive nature makes it suitable for a variety of neural network architectures and datasets, including image classification problems like MNIST."
      ],
      "metadata": {
        "id": "ez5skddynfNQ"
      }
    },
    {
      "cell_type": "code",
      "source": [
        "\n",
        "\n",
        "# Model Optimization with Adam and SGD\n",
        "\n",
        "import tensorflow as tf\n",
        "from tensorflow import keras\n",
        "from tensorflow.keras import Sequential\n",
        "from tensorflow.keras.layers import Dense, Flatten, Dropout\n",
        "from tensorflow.keras.regularizers import l2\n",
        "from keras.datasets import mnist\n",
        "\n",
        "# Load and preprocess the data\n",
        "(x_train, y_train), (x_test, y_test) = mnist.load_data()\n",
        "x_train = x_train / 255.0\n",
        "x_test = x_test / 255.0\n",
        "\n",
        "# Define the model architecture\n",
        "def create_model():\n",
        "  model = Sequential([\n",
        "      Flatten(input_shape=(28, 28), name='Input'),\n",
        "      Dense(50, activation='relu', kernel_regularizer=l2(0.001), name='fc_1'),\n",
        "      Dropout(0.25),\n",
        "      Dense(50, activation='relu', kernel_regularizer=l2(0.001), name='fc_2'),\n",
        "      Dropout(0.25),\n",
        "      Dense(10, activation='sigmoid', name='Output')\n",
        "  ])\n",
        "  return model\n",
        "\n",
        "# Function to compile and train the model\n",
        "def train_model(model, optimizer):\n",
        "    model.compile(optimizer=optimizer,\n",
        "                  loss='sparse_categorical_crossentropy',\n",
        "                  metrics=['accuracy'])\n",
        "    model.fit(x_train, y_train, validation_data=(x_test, y_test), epochs=10, verbose=0) # Set verbose to 0 to suppress output\n",
        "    return model\n",
        "\n",
        "\n",
        "# Create and train models with different optimizers\n",
        "model_adam = create_model()\n",
        "model_adam = train_model(model_adam, 'adam')\n",
        "\n",
        "model_sgd = create_model()\n",
        "model_sgd = train_model(model_sgd, 'sgd')\n",
        "\n",
        "\n",
        "# Evaluate the models\n",
        "loss_adam, accuracy_adam = model_adam.evaluate(x_test, y_test, verbose=0)\n",
        "loss_sgd, accuracy_sgd = model_sgd.evaluate(x_test, y_test, verbose=0)\n",
        "\n",
        "print(f\"Adam Optimizer - Test Accuracy: {accuracy_adam * 100:.2f}%\")\n",
        "print(f\"SGD Optimizer - Test Accuracy: {accuracy_sgd * 100:.2f}%\")\n",
        "\n",
        "\n"
      ],
      "metadata": {
        "colab": {
          "base_uri": "https://localhost:8080/"
        },
        "id": "NaGFyK9YpRy_",
        "outputId": "ef5a007a-8187-4a98-edf6-4513c56d4d89"
      },
      "execution_count": null,
      "outputs": [
        {
          "output_type": "stream",
          "name": "stderr",
          "text": [
            "/usr/local/lib/python3.10/dist-packages/keras/src/layers/reshaping/flatten.py:37: UserWarning: Do not pass an `input_shape`/`input_dim` argument to a layer. When using Sequential models, prefer using an `Input(shape)` object as the first layer in the model instead.\n",
            "  super().__init__(**kwargs)\n"
          ]
        },
        {
          "output_type": "stream",
          "name": "stdout",
          "text": [
            "Adam Optimizer - Test Accuracy: 96.23%\n",
            "SGD Optimizer - Test Accuracy: 94.80%\n"
          ]
        }
      ]
    },
    {
      "cell_type": "markdown",
      "source": [
        "### Adam often converges faster and to better solutions than SGD due to its adaptive learning rates.\n",
        "### SGD might be preferred when computational resources are very limited or when fine-tuning hyperparameters is critical,\n",
        "### but often Adam provides superior performance. The results of the two models will be compared for confirmation."
      ],
      "metadata": {
        "id": "Kk1Ft0gwqdu9"
      }
    },
    {
      "cell_type": "code",
      "source": [
        "from sklearn.metrics import accuracy_score, precision_score, recall_score, f1_score\n",
        "import matplotlib.pyplot as plt\n",
        "from sklearn.metrics import confusion_matrix, ConfusionMatrixDisplay\n",
        "\n",
        "# Assuming 'model' is your trained model (the regularized one from the previous code)\n",
        "y_pred = np.argmax(model.predict(x_test), axis=1)\n",
        "\n",
        "\n",
        "# Evaluate the model\n",
        "accuracy = accuracy_score(y_test, y_pred)\n",
        "precision = precision_score(y_test, y_pred, average='weighted')  # Use 'weighted' for multiclass\n",
        "recall = recall_score(y_test, y_pred, average='weighted')\n",
        "f1 = f1_score(y_test, y_pred, average='weighted')\n",
        "\n",
        "print(f\"Accuracy: {accuracy}\")\n",
        "print(f\"Precision: {precision}\")\n",
        "print(f\"Recall: {recall}\")\n",
        "print(f\"F1 Score: {f1}\")\n",
        "\n",
        "\n",
        "\n",
        "\n"
      ],
      "metadata": {
        "colab": {
          "base_uri": "https://localhost:8080/"
        },
        "id": "5TKaDBSom1aE",
        "outputId": "e0e3e2d2-bb2a-4f7e-f073-ea0ae54aec51"
      },
      "execution_count": null,
      "outputs": [
        {
          "output_type": "stream",
          "name": "stdout",
          "text": [
            "\u001b[1m313/313\u001b[0m \u001b[32m━━━━━━━━━━━━━━━━━━━━\u001b[0m\u001b[37m\u001b[0m \u001b[1m0s\u001b[0m 1ms/step\n",
            "Accuracy: 0.9624\n",
            "Precision: 0.9627371062275614\n",
            "Recall: 0.9624\n",
            "F1 Score: 0.9624517336466537\n"
          ]
        }
      ]
    },
    {
      "cell_type": "markdown",
      "source": [
        "- **3.4 confusion matrix**"
      ],
      "metadata": {
        "id": "klq6yvY7I5_b"
      }
    },
    {
      "cell_type": "markdown",
      "source": [
        "- **using sklearn confusiondisplay**"
      ],
      "metadata": {
        "id": "x93jYH4IK_L3"
      }
    },
    {
      "cell_type": "code",
      "source": [
        "disp = ConfusionMatrixDisplay(confusion_matrix=cm, display_labels=[0,1,2,3,4,5,6,7,8,9])\n",
        "disp.plot(cmap=plt.cm.Blues)\n",
        "plt.show()"
      ],
      "metadata": {
        "colab": {
          "base_uri": "https://localhost:8080/",
          "height": 449
        },
        "id": "lkT-B5YhH4mX",
        "outputId": "b6ad2ece-7e6c-46de-94e2-32f5863e560a"
      },
      "execution_count": null,
      "outputs": [
        {
          "output_type": "display_data",
          "data": {
            "text/plain": [
              "<Figure size 640x480 with 2 Axes>"
            ],
            "image/png": "[encoded data removed]"
          },
          "metadata": {}
        }
      ]
    },
    {
      "cell_type": "markdown",
      "source": [
        "\n",
        "### The confusion matrix visually shows the performance of the classifier.\n",
        "### - Each row represents the actual class, and each column represents the predicted class.\n",
        "### - The diagonal elements indicate correctly classified instances for each class.\n",
        "### - Off-diagonal elements show misclassifications (e.g., how many instances of class 2 were incorrectly classified as class 3).\n",
        "### - Analyze the misclassifications to understand where the model struggles and identify potential areas for improvement.\n",
        "### For example, if there's a high number of misclassifications between certain digits, it may indicate that these digits share similar visual features that the model finds difficult to distinguish.\n",
        "\n"
      ],
      "metadata": {
        "id": "_brSZBiFo5lw"
      }
    }
  ]
}